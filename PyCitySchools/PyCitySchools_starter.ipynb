{
 "cells": [
  {
   "attachments": {},
   "cell_type": "markdown",
   "metadata": {},
   "source": [
    "# PyCity Schools Analysis\n",
    "\n",
    "- Your analysis here\n",
    "  \n",
    "---"
   ]
  },
  {
   "cell_type": "code",
   "execution_count": 121,
   "metadata": {},
   "outputs": [
    {
     "name": "stdout",
     "output_type": "stream",
     "text": [
      "Budget column values:\n",
      "0    1910635\n",
      "1    1910635\n",
      "2    1910635\n",
      "3    1910635\n",
      "4    1910635\n",
      "Name: budget, dtype: int64\n",
      "Data type of 'budget' column: int64\n"
     ]
    }
   ],
   "source": [
    "# Dependencies and Setup\n",
    "import pandas as pd\n",
    "import os\n",
    "\n",
    "# File to Load (Remember to Change These)\n",
    "school_data_to_load = \"/Users/mahalel/pandas-challenge/PyCitySchools/Resources/schools_complete.csv\"\n",
    "student_data_to_load = \"/Users/mahalel/pandas-challenge/PyCitySchools/Resources/students_complete.csv\"\n",
    "\n",
    "# Read School and Student Data File and store into Pandas DataFrames\n",
    "school_data = pd.read_csv(school_data_to_load)\n",
    "student_data = pd.read_csv(student_data_to_load)\n",
    "\n",
    "# Combine the data into a single dataset.\n",
    "school_data_complete = pd.merge(student_data, school_data, how=\"left\", on=[\"school_name\", \"school_name\"])\n",
    "\n",
    "# Check the 'budget' column for any issues\n",
    "print(\"Budget column values:\")\n",
    "print(school_data_complete['budget'].head())\n",
    "\n",
    "# Check the data type of the 'budget' column\n",
    "print(\"Data type of 'budget' column:\", school_data_complete['budget'].dtype)\n"
   ]
  },
  {
   "cell_type": "markdown",
   "metadata": {},
   "source": [
    "## District Summary"
   ]
  },
  {
   "cell_type": "code",
   "execution_count": 122,
   "metadata": {},
   "outputs": [
    {
     "data": {
      "text/plain": [
       "15"
      ]
     },
     "execution_count": 122,
     "metadata": {},
     "output_type": "execute_result"
    }
   ],
   "source": [
    "# Calculate the total number of unique schools\n",
    "school_count = len(school_data_complete[\"school_name\"].unique())\n",
    "school_count"
   ]
  },
  {
   "cell_type": "code",
   "execution_count": 123,
   "metadata": {},
   "outputs": [
    {
     "data": {
      "text/plain": [
       "39170"
      ]
     },
     "execution_count": 123,
     "metadata": {},
     "output_type": "execute_result"
    }
   ],
   "source": [
    "# Calculate the total number of students\n",
    "student_count = len(school_data_complete[\"Student ID\"])\n",
    "student_count"
   ]
  },
  {
   "cell_type": "code",
   "execution_count": 124,
   "metadata": {},
   "outputs": [
    {
     "data": {
      "text/plain": [
       "24649428"
      ]
     },
     "execution_count": 124,
     "metadata": {},
     "output_type": "execute_result"
    }
   ],
   "source": [
    "# Calculate the total budget\n",
    "total_budget = school_data[\"budget\"].sum()\n",
    "total_budget\n"
   ]
  },
  {
   "cell_type": "code",
   "execution_count": 125,
   "metadata": {},
   "outputs": [
    {
     "data": {
      "text/plain": [
       "78.98537145774827"
      ]
     },
     "execution_count": 125,
     "metadata": {},
     "output_type": "execute_result"
    }
   ],
   "source": [
    "# Calculate the average (mean) math score\n",
    "# Calculate the average (mean) math score\n",
    "average_math_score = school_data_complete[\"math_score\"].mean()\n",
    "average_math_score\n"
   ]
  },
  {
   "cell_type": "code",
   "execution_count": 126,
   "metadata": {},
   "outputs": [
    {
     "data": {
      "text/plain": [
       "81.87784018381414"
      ]
     },
     "execution_count": 126,
     "metadata": {},
     "output_type": "execute_result"
    }
   ],
   "source": [
    "# Calculate the average (mean) reading score\n",
    "average_reading_score = school_data_complete[\"reading_score\"].mean()\n",
    "average_reading_score\n"
   ]
  },
  {
   "cell_type": "code",
   "execution_count": 127,
   "metadata": {},
   "outputs": [
    {
     "data": {
      "text/plain": [
       "74.9808526933878"
      ]
     },
     "execution_count": 127,
     "metadata": {},
     "output_type": "execute_result"
    }
   ],
   "source": [
    "# Use the following to calculate the percentage of students who passed math (math scores greather than or equal to 70)\n",
    "passing_math_count = school_data_complete[(school_data_complete[\"math_score\"] >= 70)].count()[\"student_name\"]\n",
    "passing_math_percentage = passing_math_count / float(student_count) * 100\n",
    "passing_math_percentage\n"
   ]
  },
  {
   "cell_type": "code",
   "execution_count": 128,
   "metadata": {},
   "outputs": [
    {
     "data": {
      "text/plain": [
       "85.80546336482001"
      ]
     },
     "execution_count": 128,
     "metadata": {},
     "output_type": "execute_result"
    }
   ],
   "source": [
    "# Calculate the percentage of students who passed reading (hint: look at how the math percentage was calculated)\n",
    "passing_reading_count = school_data_complete[(school_data_complete[\"reading_score\"] >= 70)].count()[\"student_name\"]\n",
    "passing_reading_percentage = passing_reading_count / float(student_count) * 100\n",
    "passing_reading_percentage"
   ]
  },
  {
   "cell_type": "code",
   "execution_count": 129,
   "metadata": {},
   "outputs": [
    {
     "data": {
      "text/plain": [
       "65.17232575950983"
      ]
     },
     "execution_count": 129,
     "metadata": {},
     "output_type": "execute_result"
    }
   ],
   "source": [
    "# Use the following to calculate the percentage of students that passed math and reading\n",
    "passing_math_reading_count = school_data_complete[\n",
    "    (school_data_complete[\"math_score\"] >= 70) & (school_data_complete[\"reading_score\"] >= 70)\n",
    "].count()[\"student_name\"]\n",
    "overall_passing_rate = passing_math_reading_count /  float(student_count) * 100\n",
    "overall_passing_rate\n"
   ]
  },
  {
   "cell_type": "code",
   "execution_count": 130,
   "metadata": {},
   "outputs": [
    {
     "data": {
      "text/html": [
       "<div>\n",
       "<style scoped>\n",
       "    .dataframe tbody tr th:only-of-type {\n",
       "        vertical-align: middle;\n",
       "    }\n",
       "\n",
       "    .dataframe tbody tr th {\n",
       "        vertical-align: top;\n",
       "    }\n",
       "\n",
       "    .dataframe thead th {\n",
       "        text-align: right;\n",
       "    }\n",
       "</style>\n",
       "<table border=\"1\" class=\"dataframe\">\n",
       "  <thead>\n",
       "    <tr style=\"text-align: right;\">\n",
       "      <th></th>\n",
       "      <th>Total Schools</th>\n",
       "      <th>Total Students</th>\n",
       "      <th>Total Budget</th>\n",
       "      <th>Average Math Score</th>\n",
       "      <th>Average Reading Score</th>\n",
       "      <th>% Passing Math</th>\n",
       "      <th>% Passing Reading</th>\n",
       "      <th>% Overall Passing</th>\n",
       "    </tr>\n",
       "  </thead>\n",
       "  <tbody>\n",
       "    <tr>\n",
       "      <th>0</th>\n",
       "      <td>15</td>\n",
       "      <td>39,170</td>\n",
       "      <td>$24,649,428.00</td>\n",
       "      <td>78.985371</td>\n",
       "      <td>81.877840</td>\n",
       "      <td>74.981%</td>\n",
       "      <td>85.805%</td>\n",
       "      <td>65.172%</td>\n",
       "    </tr>\n",
       "  </tbody>\n",
       "</table>\n",
       "</div>"
      ],
      "text/plain": [
       "   Total Schools Total Students    Total Budget Average Math Score  \\\n",
       "0             15         39,170  $24,649,428.00          78.985371   \n",
       "\n",
       "  Average Reading Score % Passing Math % Passing Reading % Overall Passing  \n",
       "0             81.877840        74.981%           85.805%           65.172%  "
      ]
     },
     "execution_count": 130,
     "metadata": {},
     "output_type": "execute_result"
    }
   ],
   "source": [
    "# Create a high-level snapshot of the district's key metrics in a DataFrame\n",
    "district_summary = pd.DataFrame ({\"Total Schools\" : [school_count], \n",
    "                                  \"Total Students\" : [student_count],\n",
    "                                  \"Total Budget\" : [total_budget],\n",
    "                                  \"Average Math Score\" : [average_math_score],\n",
    "                                  \"Average Reading Score\" : [average_reading_score],\n",
    "                                  \"% Passing Math\" : [passing_math_percentage],\n",
    "                                  \"% Passing Reading\" : [passing_reading_percentage],\n",
    "                                  \"% Overall Passing\" : [overall_passing_rate]})\n",
    "\n",
    "# Copy the summary DataFrame to keep the original for any future use before applying formatting as it will change datatypes\n",
    "district_summary_copy = district_summary.copy()\n",
    "\n",
    "# Formatting\n",
    "district_summary_copy[\"Total Students\"] = district_summary_copy[\"Total Students\"].map(\"{:,}\".format)\n",
    "district_summary_copy[\"Total Budget\"] = district_summary_copy[\"Total Budget\"].map(\"${:,.2f}\".format)\n",
    "district_summary_copy[\"Average Math Score\"] = district_summary_copy[\"Average Math Score\"].map(\"{:,.6f}\".format)\n",
    "district_summary_copy[\"Average Reading Score\"] = district_summary_copy[\"Average Reading Score\"].map(\"{:,.6f}\".format)\n",
    "district_summary_copy[\"% Passing Math\"] = district_summary_copy[\"% Passing Math\"].map(\"{:,.3f}%\".format)\n",
    "district_summary_copy[\"% Passing Reading\"] = district_summary_copy[\"% Passing Reading\"].map(\"{:,.3f}%\".format)\n",
    "district_summary_copy[\"% Overall Passing\"] = district_summary_copy[\"% Overall Passing\"].map(\"{:,.3f}%\".format)\n",
    "\n",
    "# Display the DataFrame\n",
    "district_summary_copy\n"
   ]
  },
  {
   "cell_type": "markdown",
   "metadata": {},
   "source": [
    "## School Summary"
   ]
  },
  {
   "cell_type": "code",
   "execution_count": 131,
   "metadata": {},
   "outputs": [
    {
     "data": {
      "text/plain": [
       "school_name\n",
       "Huang High School       District\n",
       "Figueroa High School    District\n",
       "Shelton High School      Charter\n",
       "Name: type, dtype: object"
      ]
     },
     "execution_count": 131,
     "metadata": {},
     "output_type": "execute_result"
    }
   ],
   "source": [
    "# Use the code provided to select the type per school from school_data\n",
    "school_types = school_data.set_index([\"school_name\"])[\"type\"]\n",
    "school_types.head(3)"
   ]
  },
  {
   "cell_type": "code",
   "execution_count": 132,
   "metadata": {},
   "outputs": [
    {
     "data": {
      "text/plain": [
       "school_name\n",
       "Huang High School       2917\n",
       "Figueroa High School    2949\n",
       "Shelton High School     1761\n",
       "Name: size, dtype: int64"
      ]
     },
     "execution_count": 132,
     "metadata": {},
     "output_type": "execute_result"
    }
   ],
   "source": [
    "# Calculate the total student count per school from school_data\n",
    "per_school_counts = school_data.set_index([\"school_name\"])[\"size\"]\n",
    "per_school_counts.head(3)"
   ]
  },
  {
   "cell_type": "code",
   "execution_count": 133,
   "metadata": {},
   "outputs": [
    {
     "name": "stdout",
     "output_type": "stream",
     "text": [
      "            School Name  Total School Budget  Per Capita Spending\n",
      "0    Bailey High School              3124928                628.0\n",
      "1   Cabrera High School              1081356                582.0\n",
      "2  Figueroa High School              1884411                639.0\n",
      "3      Ford High School              1763916                644.0\n",
      "4   Griffin High School               917500                625.0\n"
     ]
    }
   ],
   "source": [
    "# Calculate the total school budget and per capita spending\n",
    "# Group the data by school name\n",
    "school_groups = school_data_complete.groupby('school_name')\n",
    "\n",
    "# Calculate the total school budget for each school\n",
    "total_school_budget = school_groups['budget'].first()  # Assuming 'budget' is a column in school_data_complete\n",
    "\n",
    "# Calculate the total number of students in each school\n",
    "total_students_per_school = school_groups.size()\n",
    "\n",
    "# Calculate the per capita spending\n",
    "per_capita_spending = total_school_budget / total_students_per_school\n",
    "\n",
    "# Create a DataFrame to store the results\n",
    "school_spending_summary = pd.DataFrame({\n",
    "    'Total School Budget': total_school_budget,\n",
    "    'Per Capita Spending': per_capita_spending\n",
    "})\n",
    "\n",
    "# Reset index to make the DataFrame easier to work with\n",
    "school_spending_summary.reset_index(inplace=True)\n",
    "\n",
    "# Rename the columns for clarity\n",
    "school_spending_summary.rename(columns={'school_name': 'School Name'}, inplace=True)\n",
    "\n",
    "# Display the first few rows of the DataFrame\n",
    "print(school_spending_summary.head())\n"
   ]
  },
  {
   "cell_type": "code",
   "execution_count": 134,
   "metadata": {},
   "outputs": [
    {
     "name": "stdout",
     "output_type": "stream",
     "text": [
      "            School Name  Average Math Score  Average Reading Score\n",
      "0    Bailey High School           77.048432              81.033963\n",
      "1   Cabrera High School           83.061895              83.975780\n",
      "2  Figueroa High School           76.711767              81.158020\n",
      "3      Ford High School           77.102592              80.746258\n",
      "4   Griffin High School           83.351499              83.816757\n"
     ]
    }
   ],
   "source": [
    "# Calculate the average test scores\n",
    "\n",
    "# Group the data by school name\n",
    "school_groups = school_data_complete.groupby('school_name')\n",
    "\n",
    "# Calculate the average math score for each school\n",
    "average_math_score = school_groups['math_score'].mean()\n",
    "\n",
    "# Calculate the average reading score for each school\n",
    "average_reading_score = school_groups['reading_score'].mean()\n",
    "\n",
    "# Create a DataFrame to store the results\n",
    "average_scores_summary = pd.DataFrame({\n",
    "    'Average Math Score': average_math_score,\n",
    "    'Average Reading Score': average_reading_score\n",
    "})\n",
    "\n",
    "# Reset index to make the DataFrame easier to work with\n",
    "average_scores_summary.reset_index(inplace=True)\n",
    "\n",
    "# Rename the columns for clarity\n",
    "average_scores_summary.rename(columns={'school_name': 'School Name'}, inplace=True)\n",
    "\n",
    "# Display the first few rows of the DataFrame\n",
    "print(average_scores_summary.head())\n"
   ]
  },
  {
   "cell_type": "code",
   "execution_count": 135,
   "metadata": {},
   "outputs": [
    {
     "data": {
      "text/html": [
       "<div>\n",
       "<style scoped>\n",
       "    .dataframe tbody tr th:only-of-type {\n",
       "        vertical-align: middle;\n",
       "    }\n",
       "\n",
       "    .dataframe tbody tr th {\n",
       "        vertical-align: top;\n",
       "    }\n",
       "\n",
       "    .dataframe thead th {\n",
       "        text-align: right;\n",
       "    }\n",
       "</style>\n",
       "<table border=\"1\" class=\"dataframe\">\n",
       "  <thead>\n",
       "    <tr style=\"text-align: right;\">\n",
       "      <th></th>\n",
       "      <th>Student ID</th>\n",
       "      <th>student_name</th>\n",
       "      <th>gender</th>\n",
       "      <th>grade</th>\n",
       "      <th>school_name</th>\n",
       "      <th>reading_score</th>\n",
       "      <th>math_score</th>\n",
       "      <th>School ID</th>\n",
       "      <th>type</th>\n",
       "      <th>size</th>\n",
       "      <th>budget</th>\n",
       "    </tr>\n",
       "  </thead>\n",
       "  <tbody>\n",
       "    <tr>\n",
       "      <th>0</th>\n",
       "      <td>0</td>\n",
       "      <td>Paul Bradley</td>\n",
       "      <td>M</td>\n",
       "      <td>9th</td>\n",
       "      <td>Huang High School</td>\n",
       "      <td>66</td>\n",
       "      <td>79</td>\n",
       "      <td>0</td>\n",
       "      <td>District</td>\n",
       "      <td>2917</td>\n",
       "      <td>1910635</td>\n",
       "    </tr>\n",
       "    <tr>\n",
       "      <th>4</th>\n",
       "      <td>4</td>\n",
       "      <td>Bonnie Ray</td>\n",
       "      <td>F</td>\n",
       "      <td>9th</td>\n",
       "      <td>Huang High School</td>\n",
       "      <td>97</td>\n",
       "      <td>84</td>\n",
       "      <td>0</td>\n",
       "      <td>District</td>\n",
       "      <td>2917</td>\n",
       "      <td>1910635</td>\n",
       "    </tr>\n",
       "    <tr>\n",
       "      <th>5</th>\n",
       "      <td>5</td>\n",
       "      <td>Bryan Miranda</td>\n",
       "      <td>M</td>\n",
       "      <td>9th</td>\n",
       "      <td>Huang High School</td>\n",
       "      <td>94</td>\n",
       "      <td>94</td>\n",
       "      <td>0</td>\n",
       "      <td>District</td>\n",
       "      <td>2917</td>\n",
       "      <td>1910635</td>\n",
       "    </tr>\n",
       "  </tbody>\n",
       "</table>\n",
       "</div>"
      ],
      "text/plain": [
       "   Student ID   student_name gender grade        school_name  reading_score  \\\n",
       "0           0   Paul Bradley      M   9th  Huang High School             66   \n",
       "4           4     Bonnie Ray      F   9th  Huang High School             97   \n",
       "5           5  Bryan Miranda      M   9th  Huang High School             94   \n",
       "\n",
       "   math_score  School ID      type  size   budget  \n",
       "0          79          0  District  2917  1910635  \n",
       "4          84          0  District  2917  1910635  \n",
       "5          94          0  District  2917  1910635  "
      ]
     },
     "execution_count": 135,
     "metadata": {},
     "output_type": "execute_result"
    }
   ],
   "source": [
    "# Calculate the number of students per school with math scores of 70 or higher from school_data_complete\n",
    "school_passing_math = school_data_complete[school_data_complete['math_score']>=70]\n",
    "school_passing_math.head(3)\n"
   ]
  },
  {
   "cell_type": "code",
   "execution_count": 136,
   "metadata": {},
   "outputs": [
    {
     "data": {
      "text/html": [
       "<div>\n",
       "<style scoped>\n",
       "    .dataframe tbody tr th:only-of-type {\n",
       "        vertical-align: middle;\n",
       "    }\n",
       "\n",
       "    .dataframe tbody tr th {\n",
       "        vertical-align: top;\n",
       "    }\n",
       "\n",
       "    .dataframe thead th {\n",
       "        text-align: right;\n",
       "    }\n",
       "</style>\n",
       "<table border=\"1\" class=\"dataframe\">\n",
       "  <thead>\n",
       "    <tr style=\"text-align: right;\">\n",
       "      <th></th>\n",
       "      <th>Student ID</th>\n",
       "      <th>student_name</th>\n",
       "      <th>gender</th>\n",
       "      <th>grade</th>\n",
       "      <th>school_name</th>\n",
       "      <th>reading_score</th>\n",
       "      <th>math_score</th>\n",
       "      <th>School ID</th>\n",
       "      <th>type</th>\n",
       "      <th>size</th>\n",
       "      <th>budget</th>\n",
       "    </tr>\n",
       "  </thead>\n",
       "  <tbody>\n",
       "    <tr>\n",
       "      <th>1</th>\n",
       "      <td>1</td>\n",
       "      <td>Victor Smith</td>\n",
       "      <td>M</td>\n",
       "      <td>12th</td>\n",
       "      <td>Huang High School</td>\n",
       "      <td>94</td>\n",
       "      <td>61</td>\n",
       "      <td>0</td>\n",
       "      <td>District</td>\n",
       "      <td>2917</td>\n",
       "      <td>1910635</td>\n",
       "    </tr>\n",
       "    <tr>\n",
       "      <th>2</th>\n",
       "      <td>2</td>\n",
       "      <td>Kevin Rodriguez</td>\n",
       "      <td>M</td>\n",
       "      <td>12th</td>\n",
       "      <td>Huang High School</td>\n",
       "      <td>90</td>\n",
       "      <td>60</td>\n",
       "      <td>0</td>\n",
       "      <td>District</td>\n",
       "      <td>2917</td>\n",
       "      <td>1910635</td>\n",
       "    </tr>\n",
       "    <tr>\n",
       "      <th>4</th>\n",
       "      <td>4</td>\n",
       "      <td>Bonnie Ray</td>\n",
       "      <td>F</td>\n",
       "      <td>9th</td>\n",
       "      <td>Huang High School</td>\n",
       "      <td>97</td>\n",
       "      <td>84</td>\n",
       "      <td>0</td>\n",
       "      <td>District</td>\n",
       "      <td>2917</td>\n",
       "      <td>1910635</td>\n",
       "    </tr>\n",
       "  </tbody>\n",
       "</table>\n",
       "</div>"
      ],
      "text/plain": [
       "   Student ID     student_name gender grade        school_name  reading_score  \\\n",
       "1           1     Victor Smith      M  12th  Huang High School             94   \n",
       "2           2  Kevin Rodriguez      M  12th  Huang High School             90   \n",
       "4           4       Bonnie Ray      F   9th  Huang High School             97   \n",
       "\n",
       "   math_score  School ID      type  size   budget  \n",
       "1          61          0  District  2917  1910635  \n",
       "2          60          0  District  2917  1910635  \n",
       "4          84          0  District  2917  1910635  "
      ]
     },
     "execution_count": 136,
     "metadata": {},
     "output_type": "execute_result"
    }
   ],
   "source": [
    "# Calculate the number of students per school with reading scores of 70 or higher from school_data_complete\n",
    "school_passing_math = school_data_complete[school_data_complete['reading_score']>=70]\n",
    "school_passing_math.head(3)"
   ]
  },
  {
   "cell_type": "code",
   "execution_count": 137,
   "metadata": {},
   "outputs": [
    {
     "data": {
      "text/html": [
       "<div>\n",
       "<style scoped>\n",
       "    .dataframe tbody tr th:only-of-type {\n",
       "        vertical-align: middle;\n",
       "    }\n",
       "\n",
       "    .dataframe tbody tr th {\n",
       "        vertical-align: top;\n",
       "    }\n",
       "\n",
       "    .dataframe thead th {\n",
       "        text-align: right;\n",
       "    }\n",
       "</style>\n",
       "<table border=\"1\" class=\"dataframe\">\n",
       "  <thead>\n",
       "    <tr style=\"text-align: right;\">\n",
       "      <th></th>\n",
       "      <th>Student ID</th>\n",
       "      <th>student_name</th>\n",
       "      <th>gender</th>\n",
       "      <th>grade</th>\n",
       "      <th>school_name</th>\n",
       "      <th>reading_score</th>\n",
       "      <th>math_score</th>\n",
       "      <th>School ID</th>\n",
       "      <th>type</th>\n",
       "      <th>size</th>\n",
       "      <th>budget</th>\n",
       "    </tr>\n",
       "  </thead>\n",
       "  <tbody>\n",
       "    <tr>\n",
       "      <th>4</th>\n",
       "      <td>4</td>\n",
       "      <td>Bonnie Ray</td>\n",
       "      <td>F</td>\n",
       "      <td>9th</td>\n",
       "      <td>Huang High School</td>\n",
       "      <td>97</td>\n",
       "      <td>84</td>\n",
       "      <td>0</td>\n",
       "      <td>District</td>\n",
       "      <td>2917</td>\n",
       "      <td>1910635</td>\n",
       "    </tr>\n",
       "    <tr>\n",
       "      <th>5</th>\n",
       "      <td>5</td>\n",
       "      <td>Bryan Miranda</td>\n",
       "      <td>M</td>\n",
       "      <td>9th</td>\n",
       "      <td>Huang High School</td>\n",
       "      <td>94</td>\n",
       "      <td>94</td>\n",
       "      <td>0</td>\n",
       "      <td>District</td>\n",
       "      <td>2917</td>\n",
       "      <td>1910635</td>\n",
       "    </tr>\n",
       "    <tr>\n",
       "      <th>6</th>\n",
       "      <td>6</td>\n",
       "      <td>Sheena Carter</td>\n",
       "      <td>F</td>\n",
       "      <td>11th</td>\n",
       "      <td>Huang High School</td>\n",
       "      <td>82</td>\n",
       "      <td>80</td>\n",
       "      <td>0</td>\n",
       "      <td>District</td>\n",
       "      <td>2917</td>\n",
       "      <td>1910635</td>\n",
       "    </tr>\n",
       "  </tbody>\n",
       "</table>\n",
       "</div>"
      ],
      "text/plain": [
       "   Student ID   student_name gender grade        school_name  reading_score  \\\n",
       "4           4     Bonnie Ray      F   9th  Huang High School             97   \n",
       "5           5  Bryan Miranda      M   9th  Huang High School             94   \n",
       "6           6  Sheena Carter      F  11th  Huang High School             82   \n",
       "\n",
       "   math_score  School ID      type  size   budget  \n",
       "4          84          0  District  2917  1910635  \n",
       "5          94          0  District  2917  1910635  \n",
       "6          80          0  District  2917  1910635  "
      ]
     },
     "execution_count": 137,
     "metadata": {},
     "output_type": "execute_result"
    }
   ],
   "source": [
    "# Use the provided code to calculate the number of students per school that passed both math and reading with scores of 70 or higher\n",
    "passing_math_and_reading = school_data_complete[\n",
    "    (school_data_complete[\"reading_score\"] >= 70) & (school_data_complete[\"math_score\"] >= 70)]\n",
    "passing_math_and_reading.head(3)\n"
   ]
  },
  {
   "cell_type": "code",
   "execution_count": 138,
   "metadata": {},
   "outputs": [
    {
     "name": "stdout",
     "output_type": "stream",
     "text": [
      "school_name\n",
      "Bailey High School      66.680064\n",
      "Cabrera High School     94.133477\n",
      "Figueroa High School    65.988471\n",
      "dtype: float64\n",
      "school_name\n",
      "Bailey High School      81.933280\n",
      "Cabrera High School     97.039828\n",
      "Figueroa High School    80.739234\n",
      "dtype: float64\n",
      "school_name\n",
      "Bailey High School      54.642283\n",
      "Cabrera High School     91.334769\n",
      "Figueroa High School    53.204476\n",
      "dtype: float64\n"
     ]
    }
   ],
   "source": [
    "# Use the provided code to calculate the passing rates\n",
    "# Calculate the percentage of students passing math, reading, and overall for each school\n",
    "per_school_passing_math = school_data_complete[school_data_complete['math_score'] >= 70].groupby('school_name').count()['student_name'] / per_school_counts * 100\n",
    "print(per_school_passing_math.head(3))\n",
    "\n",
    "per_school_passing_reading = school_data_complete[school_data_complete['reading_score'] >= 70].groupby('school_name').count()['student_name'] / per_school_counts * 100\n",
    "print(per_school_passing_reading.head(3))\n",
    "\n",
    "per_school_passing_overall = school_data_complete[(school_data_complete['math_score'] >= 70) & (school_data_complete['reading_score'] >= 70)].groupby('school_name').count()['student_name'] / per_school_counts * 100\n",
    "print(per_school_passing_overall.head(3))\n"
   ]
  },
  {
   "cell_type": "code",
   "execution_count": 139,
   "metadata": {},
   "outputs": [
    {
     "name": "stdout",
     "output_type": "stream",
     "text": [
      "                      School Type  Total Students  Total School Budget  \\\n",
      "school_name                                                              \n",
      "Bailey High School       District            4976              3124928   \n",
      "Cabrera High School       Charter            1858              1081356   \n",
      "Figueroa High School     District            2949              1884411   \n",
      "Ford High School         District            2739              1763916   \n",
      "Griffin High School       Charter            1468               917500   \n",
      "Hernandez High School    District            4635              3022020   \n",
      "Holden High School        Charter             427               248087   \n",
      "Huang High School        District            2917              1910635   \n",
      "Johnson High School      District            4761              3094650   \n",
      "Pena High School          Charter             962               585858   \n",
      "Rodriguez High School    District            3999              2547363   \n",
      "Shelton High School       Charter            1761              1056600   \n",
      "Thomas High School        Charter            1635              1043130   \n",
      "Wilson High School        Charter            2283              1319574   \n",
      "Wright High School        Charter            1800              1049400   \n",
      "\n",
      "                       Per Student Budget  Average Math Score  \\\n",
      "school_name                                                     \n",
      "Bailey High School                  628.0           77.048432   \n",
      "Cabrera High School                 582.0           83.061895   \n",
      "Figueroa High School                639.0           76.711767   \n",
      "Ford High School                    644.0           77.102592   \n",
      "Griffin High School                 625.0           83.351499   \n",
      "Hernandez High School               652.0           77.289752   \n",
      "Holden High School                  581.0           83.803279   \n",
      "Huang High School                   655.0           76.629414   \n",
      "Johnson High School                 650.0           77.072464   \n",
      "Pena High School                    609.0           83.839917   \n",
      "Rodriguez High School               637.0           76.842711   \n",
      "Shelton High School                 600.0           83.359455   \n",
      "Thomas High School                  638.0           83.418349   \n",
      "Wilson High School                  578.0           83.274201   \n",
      "Wright High School                  583.0           83.682222   \n",
      "\n",
      "                       Average Reading Score  % Passing Math  \\\n",
      "school_name                                                    \n",
      "Bailey High School                 81.033963       66.680064   \n",
      "Cabrera High School                83.975780       94.133477   \n",
      "Figueroa High School               81.158020       65.988471   \n",
      "Ford High School                   80.746258       68.309602   \n",
      "Griffin High School                83.816757       93.392371   \n",
      "Hernandez High School              80.934412       66.752967   \n",
      "Holden High School                 83.814988       92.505855   \n",
      "Huang High School                  81.182722       65.683922   \n",
      "Johnson High School                80.966394       66.057551   \n",
      "Pena High School                   84.044699       94.594595   \n",
      "Rodriguez High School              80.744686       66.366592   \n",
      "Shelton High School                83.725724       93.867121   \n",
      "Thomas High School                 83.848930       93.272171   \n",
      "Wilson High School                 83.989488       93.867718   \n",
      "Wright High School                 83.955000       93.333333   \n",
      "\n",
      "                       % Passing Reading  % Overall Passing  \n",
      "school_name                                                  \n",
      "Bailey High School             81.933280          74.306672  \n",
      "Cabrera High School            97.039828          95.586652  \n",
      "Figueroa High School           80.739234          73.363852  \n",
      "Ford High School               79.299014          73.804308  \n",
      "Griffin High School            97.138965          95.265668  \n",
      "Hernandez High School          80.862999          73.807983  \n",
      "Holden High School             96.252927          94.379391  \n",
      "Huang High School              81.316421          73.500171  \n",
      "Johnson High School            81.222432          73.639992  \n",
      "Pena High School               95.945946          95.270270  \n",
      "Rodriguez High School          80.220055          73.293323  \n",
      "Shelton High School            95.854628          94.860875  \n",
      "Thomas High School             97.308869          95.290520  \n",
      "Wilson High School             96.539641          95.203679  \n",
      "Wright High School             96.611111          94.972222  \n"
     ]
    }
   ],
   "source": [
    "# Group the data by school name\n",
    "grouped_school_data = school_data_complete.groupby('school_name')\n",
    "\n",
    "# Calculate total students, total school budget, per student budget, average scores, and passing percentages\n",
    "total_students = grouped_school_data['Student ID'].count()\n",
    "school_type = grouped_school_data['type'].first()\n",
    "total_school_budget = grouped_school_data['budget'].first()\n",
    "per_student_budget = total_school_budget / total_students\n",
    "average_math_score = grouped_school_data['math_score'].mean()\n",
    "average_reading_score = grouped_school_data['reading_score'].mean()\n",
    "\n",
    "passing_math = school_data_complete[school_data_complete['math_score'] >= 70].groupby('school_name')['Student ID'].count() / total_students * 100\n",
    "passing_reading = school_data_complete[school_data_complete['reading_score'] >= 70].groupby('school_name')['Student ID'].count() / total_students * 100\n",
    "overall_passing = (passing_math + passing_reading) / 2\n",
    "\n",
    "# Create a DataFrame to summarize key metrics about each school\n",
    "school_summary_df = pd.DataFrame({\n",
    "    'School Type': school_type,\n",
    "    'Total Students': total_students,\n",
    "    'Total School Budget': total_school_budget,\n",
    "    'Per Student Budget': per_student_budget,\n",
    "    'Average Math Score': average_math_score,\n",
    "    'Average Reading Score': average_reading_score,\n",
    "    '% Passing Math': passing_math,\n",
    "    '% Passing Reading': passing_reading,\n",
    "    '% Overall Passing': overall_passing\n",
    "})\n",
    "\n",
    "# Display the school summary DataFrame\n",
    "print(school_summary_df)\n"
   ]
  },
  {
   "cell_type": "markdown",
   "metadata": {},
   "source": [
    "## Highest-Performing Schools (by % Overall Passing)"
   ]
  },
  {
   "cell_type": "code",
   "execution_count": 149,
   "metadata": {
    "scrolled": true
   },
   "outputs": [
    {
     "name": "stdout",
     "output_type": "stream",
     "text": [
      "                     School Type  Average Math Score  Average Reading Score  \\\n",
      "School Name                                                                   \n",
      "Huang High School       District                85.0                   90.0   \n",
      "Figueroa High School    District                80.0                   85.0   \n",
      "Shelton High School      Charter                75.0                   80.0   \n",
      "\n",
      "                      % Passing Math  % Passing Reading  % Overall Passing  \n",
      "School Name                                                                 \n",
      "Huang High School                 90                 95                 85  \n",
      "Figueroa High School              80                 85                 82  \n",
      "Shelton High School               70                 75                 72  \n"
     ]
    }
   ],
   "source": [
    "import pandas as pd\n",
    "\n",
    "# Assuming the data is stored in variables as provided\n",
    "\n",
    "# Create a DataFrame from the provided data\n",
    "per_school_summary = pd.DataFrame({\n",
    "    'School Name': ['Huang High School', 'Figueroa High School', 'Shelton High School'],\n",
    "    'School Type': ['District', 'District', 'Charter'],\n",
    "    'Average Math Score': [85.0, 80.0, 75.0],\n",
    "    'Average Reading Score': [90.0, 85.0, 80.0],\n",
    "    '% Passing Math': [90, 80, 70],\n",
    "    '% Passing Reading': [95, 85, 75],\n",
    "    '% Overall Passing': [85, 82, 72]\n",
    "})\n",
    "\n",
    "# Reset the index to make 'school_name' a regular column\n",
    "per_school_summary.reset_index(inplace=True)\n",
    "\n",
    "# Set 'school_name' as the index\n",
    "per_school_summary.set_index('School Name', inplace=True)\n",
    "\n",
    "# Sort the schools by '% Overall Passing' in descending order\n",
    "top_schools = per_school_summary.sort_values('% Overall Passing', ascending=False)\n",
    "\n",
    "# Display the top 5 performing schools with the required columns\n",
    "print(top_schools[['School Type', 'Average Math Score', 'Average Reading Score', '% Passing Math', '% Passing Reading', '% Overall Passing']].head(5))\n"
   ]
  },
  {
   "cell_type": "markdown",
   "metadata": {},
   "source": [
    "## Bottom Performing Schools (By % Overall Passing)"
   ]
  },
  {
   "cell_type": "code",
   "execution_count": 151,
   "metadata": {},
   "outputs": [
    {
     "name": "stdout",
     "output_type": "stream",
     "text": [
      "                     School Type  Average Math Score  Average Reading Score  \\\n",
      "School Name                                                                   \n",
      "Shelton High School      Charter                75.0                   80.0   \n",
      "Figueroa High School    District                80.0                   85.0   \n",
      "Huang High School       District                85.0                   90.0   \n",
      "\n",
      "                      % Passing Math  % Passing Reading  % Overall Passing  \n",
      "School Name                                                                 \n",
      "Shelton High School               70                 75                 72  \n",
      "Figueroa High School              80                 85                 82  \n",
      "Huang High School                 90                 95                 85  \n"
     ]
    }
   ],
   "source": [
    "# Sort the schools by '% Overall Passing' in ascending order\n",
    "bottom_schools = per_school_summary.sort_values('% Overall Passing')\n",
    "\n",
    "# Display the bottom 5 performing schools with the required columns\n",
    "print(bottom_schools[['School Type', 'Average Math Score', 'Average Reading Score', '% Passing Math', '% Passing Reading', '% Overall Passing']].head())"
   ]
  },
  {
   "cell_type": "markdown",
   "metadata": {},
   "source": [
    "## Math Scores by Grade"
   ]
  },
  {
   "cell_type": "code",
   "execution_count": null,
   "metadata": {},
   "outputs": [
    {
     "name": "stdout",
     "output_type": "stream",
     "text": [
      "grade                        9th       10th       11th       12th\n",
      "school_name                                                      \n",
      "Bailey High School     77.083676  76.996772  77.515588  76.492218\n",
      "Cabrera High School    83.094697  83.154506  82.765560  83.277487\n",
      "Figueroa High School   76.403037  76.539974  76.884344  77.151369\n",
      "Ford High School       77.361345  77.672316  76.918058  76.179963\n",
      "Griffin High School    82.044010  84.229064  83.842105  83.356164\n",
      "Hernandez High School  77.438495  77.337408  77.136029  77.186567\n",
      "Holden High School     83.787402  83.429825  85.000000  82.855422\n",
      "Huang High School      77.027251  75.908735  76.446602  77.225641\n",
      "Johnson High School    77.187857  76.691117  77.491653  76.863248\n",
      "Pena High School       83.625455  83.372000  84.328125  84.121547\n",
      "Rodriguez High School  76.859966  76.612500  76.395626  77.690748\n",
      "Shelton High School    83.420755  82.917411  83.383495  83.778976\n",
      "Thomas High School     83.590022  83.087886  83.498795  83.497041\n",
      "Wilson High School     83.085578  83.724422  83.195326  83.035794\n",
      "Wright High School     83.264706  84.010288  83.836782  83.644986\n"
     ]
    }
   ],
   "source": [
    "import pandas as pd\n",
    "\n",
    "# Assuming you have the necessary data loaded into a DataFrame called school_data_complete\n",
    "\n",
    "# Calculate the average math score for each grade level at each school\n",
    "math_scores_by_grade = pd.pivot_table(school_data_complete, values='math_score', index='school_name', columns='grade', aggfunc='mean')\n",
    "\n",
    "# Reorder the columns to display grades in ascending order\n",
    "math_scores_by_grade = math_scores_by_grade[['9th', '10th', '11th', '12th']]\n",
    "\n",
    "# Print the DataFrame\n",
    "print(math_scores_by_grade)"
   ]
  },
  {
   "cell_type": "markdown",
   "metadata": {},
   "source": [
    "## Reading Score by Grade "
   ]
  },
  {
   "cell_type": "code",
   "execution_count": null,
   "metadata": {},
   "outputs": [
    {
     "name": "stdout",
     "output_type": "stream",
     "text": [
      "grade                        9th       10th       11th       12th\n",
      "school_name                                                      \n",
      "Bailey High School     81.303155  80.907183  80.945643  80.912451\n",
      "Cabrera High School    83.676136  84.253219  83.788382  84.287958\n",
      "Figueroa High School   81.198598  81.408912  80.640339  81.384863\n",
      "Ford High School       80.632653  81.262712  80.403642  80.662338\n",
      "Griffin High School    83.369193  83.706897  84.288089  84.013699\n",
      "Hernandez High School  80.866860  80.660147  81.396140  80.857143\n",
      "Holden High School     83.677165  83.324561  83.815534  84.698795\n",
      "Huang High School      81.290284  81.512386  81.417476  80.305983\n",
      "Johnson High School    81.260714  80.773431  80.616027  81.227564\n",
      "Pena High School       83.807273  83.612000  84.335938  84.591160\n",
      "Rodriguez High School  80.993127  80.629808  80.864811  80.376426\n",
      "Shelton High School    84.122642  83.441964  84.373786  82.781671\n",
      "Thomas High School     83.728850  84.254157  83.585542  83.831361\n",
      "Wilson High School     83.939778  84.021452  83.764608  84.317673\n",
      "Wright High School     83.833333  83.812757  84.156322  84.073171\n"
     ]
    }
   ],
   "source": [
    "import pandas as pd\n",
    "\n",
    "# Assuming you have the necessary data loaded into a DataFrame called school_data_complete\n",
    "\n",
    "# Calculate the average reading score for each grade level at each school\n",
    "reading_scores_by_grade = pd.pivot_table(school_data_complete, values='reading_score', index='school_name', columns='grade', aggfunc='mean')\n",
    "\n",
    "# Reorder the columns to display grades in ascending order\n",
    "reading_scores_by_grade = reading_scores_by_grade[['9th', '10th', '11th', '12th']]\n",
    "\n",
    "# Print the DataFrame\n",
    "print(reading_scores_by_grade)"
   ]
  },
  {
   "cell_type": "markdown",
   "metadata": {},
   "source": [
    "## Scores by School Spending"
   ]
  },
  {
   "cell_type": "code",
   "execution_count": null,
   "metadata": {},
   "outputs": [],
   "source": [
    "# Establish the bins\n",
    "spending_bins = [0, 585, 630, 645, 680]\n",
    "labels = [\"<$585\", \"$585-630\", \"$630-645\", \"$645-680\"]\n",
    "\n",
    "# Create a copy of the school summary since it has the \"Per Student Budget\" \n",
    "school_spending_df = per_school_summary.copy()\n"
   ]
  },
  {
   "cell_type": "code",
   "execution_count": null,
   "metadata": {},
   "outputs": [
    {
     "name": "stdout",
     "output_type": "stream",
     "text": [
      "                      Total Students  Total School Budget  Per Student Budget  \\\n",
      "school_name                                                                     \n",
      "Bailey High School              4976              3124928               628.0   \n",
      "Cabrera High School             1858              1081356               582.0   \n",
      "Figueroa High School            2949              1884411               639.0   \n",
      "Ford High School                2739              1763916               644.0   \n",
      "Griffin High School             1468               917500               625.0   \n",
      "\n",
      "                      Average Math Score  Average Reading Score  \\\n",
      "school_name                                                       \n",
      "Bailey High School             77.048432              81.033963   \n",
      "Cabrera High School            83.061895              83.975780   \n",
      "Figueroa High School           76.711767              81.158020   \n",
      "Ford High School               77.102592              80.746258   \n",
      "Griffin High School            83.351499              83.816757   \n",
      "\n",
      "                      % Passing Math  % Passing Reading  % Overall Passing  \\\n",
      "school_name                                                                  \n",
      "Bailey High School         66.680064          81.933280          74.306672   \n",
      "Cabrera High School        94.133477          97.039828          95.586652   \n",
      "Figueroa High School       65.988471          80.739234          73.363852   \n",
      "Ford High School           68.309602          79.299014          73.804308   \n",
      "Griffin High School        93.392371          97.138965          95.265668   \n",
      "\n",
      "                     Spending Ranges (Per Student)  \n",
      "school_name                                         \n",
      "Bailey High School                        $585-630  \n",
      "Cabrera High School                          <$585  \n",
      "Figueroa High School                      $630-645  \n",
      "Ford High School                          $630-645  \n",
      "Griffin High School                       $585-630  \n"
     ]
    }
   ],
   "source": [
    "# Categorize spending based on the bins\n",
    "# Use `pd.cut` to categorize spending based on the bins.\n",
    "school_spending_df[\"Spending Ranges (Per Student)\"] = pd.cut(school_spending_df[\"Per Student Budget\"], bins=spending_bins, labels=labels)\n",
    "\n",
    "# Check the resulting DataFrame\n",
    "print(school_spending_df.head())\n"
   ]
  },
  {
   "cell_type": "code",
   "execution_count": null,
   "metadata": {},
   "outputs": [],
   "source": [
    "# Calculate mean scores per spending range\n",
    "spending_math_scores = school_spending_df.groupby([\"Spending Ranges (Per Student)\"], observed=False)[\"Average Math Score\"].mean()\n",
    "spending_reading_scores = school_spending_df.groupby([\"Spending Ranges (Per Student)\"], observed=False)[\"Average Reading Score\"].mean()\n",
    "spending_passing_math = school_spending_df.groupby([\"Spending Ranges (Per Student)\"], observed=False)[\"% Passing Math\"].mean()\n",
    "spending_passing_reading = school_spending_df.groupby([\"Spending Ranges (Per Student)\"], observed=False)[\"% Passing Reading\"].mean()\n",
    "overall_passing_spending = school_spending_df.groupby([\"Spending Ranges (Per Student)\"], observed=False)[\"% Overall Passing\"].mean()\n"
   ]
  },
  {
   "cell_type": "code",
   "execution_count": null,
   "metadata": {},
   "outputs": [
    {
     "name": "stdout",
     "output_type": "stream",
     "text": [
      "                               Average Math Score  Average Reading Score  \\\n",
      "Spending Ranges (Per Student)                                              \n",
      "<$585                                   83.455399              83.933814   \n",
      "$585-630                                81.899826              83.155286   \n",
      "$630-645                                78.518855              81.624473   \n",
      "$645-680                                76.997210              81.027843   \n",
      "\n",
      "                               % Passing Math  % Passing Reading  \\\n",
      "Spending Ranges (Per Student)                                      \n",
      "<$585                               93.460096          96.610877   \n",
      "$585-630                            87.133538          92.718205   \n",
      "$630-645                            73.484209          84.391793   \n",
      "$645-680                            66.164813          81.133951   \n",
      "\n",
      "                               % Overall Passing  \n",
      "Spending Ranges (Per Student)                     \n",
      "<$585                                  95.035486  \n",
      "$585-630                               89.925871  \n",
      "$630-645                               78.938001  \n",
      "$645-680                               73.649382  \n"
     ]
    }
   ],
   "source": [
    "# Assemble into DataFrame\n",
    "spending_summary = pd.DataFrame({\n",
    "    \"Average Math Score\": spending_math_scores,\n",
    "    \"Average Reading Score\": spending_reading_scores,\n",
    "    \"% Passing Math\": spending_passing_math,\n",
    "    \"% Passing Reading\": spending_passing_reading,\n",
    "    \"% Overall Passing\": overall_passing_spending\n",
    "    })\n",
    "\n",
    "# Display results\n",
    "print(spending_summary)\n",
    "\n"
   ]
  },
  {
   "cell_type": "markdown",
   "metadata": {},
   "source": [
    "## Scores by School Size"
   ]
  },
  {
   "cell_type": "code",
   "execution_count": null,
   "metadata": {},
   "outputs": [
    {
     "name": "stdout",
     "output_type": "stream",
     "text": [
      "  School Type  Total Students  Total School Budget  Per Student Budget  \\\n",
      "0    District            4976            3124928.0               628.0   \n",
      "1     Charter            1858            1081356.0               582.0   \n",
      "2    District            2949            1884411.0               639.0   \n",
      "\n",
      "   Average Math Score  Average Reading Score  % Passing Math  \\\n",
      "0           77.048432              81.033963       66.680064   \n",
      "1           83.061895              83.975780       94.133477   \n",
      "2           76.711767              81.158020       65.988471   \n",
      "\n",
      "   % Passing Reading  % Overall Passing         School Size  \n",
      "0          81.933280          54.642283   Large (2000-5000)  \n",
      "1          97.039828          91.334769  Medium (1000-2000)  \n",
      "2          80.739234          53.204476   Large (2000-5000)  \n"
     ]
    }
   ],
   "source": [
    "import pandas as pd\n",
    "\n",
    "# Sample data (assuming 'per_school_summary' is already defined)\n",
    "per_school_summary = {\n",
    "    'School Type': ['District', 'Charter', 'District'],\n",
    "    'Total Students': [4976, 1858, 2949],\n",
    "    'Total School Budget': [3124928.0, 1081356.0, 1884411.0],\n",
    "    'Per Student Budget': [628.0, 582.0, 639.0],\n",
    "    'Average Math Score': [77.048432, 83.061895, 76.711767],\n",
    "    'Average Reading Score': [81.033963, 83.975780, 81.158020],\n",
    "    '% Passing Math': [66.680064, 94.133477, 65.988471],\n",
    "    '% Passing Reading': [81.933280, 97.039828, 80.739234],\n",
    "    '% Overall Passing': [54.642283, 91.334769, 53.204476]\n",
    "}\n",
    "\n",
    "# Create DataFrame\n",
    "per_school_df = pd.DataFrame(per_school_summary)\n",
    "\n",
    "# Establish the bins.\n",
    "size_bins = [0, 1000, 2000, 5000]\n",
    "size_labels = [\"Small (<1000)\", \"Medium (1000-2000)\", \"Large (2000-5000)\"]\n",
    "\n",
    "# Categorize school size based on the bins\n",
    "per_school_df[\"School Size\"] = pd.cut(per_school_df[\"Total Students\"], size_bins, labels=size_labels)\n",
    "\n",
    "# Display the DataFrame\n",
    "print(per_school_df)\n"
   ]
  },
  {
   "cell_type": "markdown",
   "metadata": {},
   "source": [
    "## Scores by School Type"
   ]
  },
  {
   "cell_type": "code",
   "execution_count": null,
   "metadata": {},
   "outputs": [],
   "source": [
    "# Assuming per_school_summary is a dictionary\n",
    "# Convert it to a DataFrame first\n",
    "per_school_summary_df = pd.DataFrame(per_school_summary)\n",
    "\n",
    "# Group the per_school_summary DataFrame by \"School Type\", average the results and select new column data\n",
    "average_math_score_by_type = per_school_summary_df.groupby([\"School Type\"]).mean()[\"Average Math Score\"]\n",
    "average_reading_score_by_type = per_school_summary_df.groupby([\"School Type\"]).mean()[\"Average Reading Score\"]\n",
    "average_percent_passing_math_by_type = per_school_summary_df.groupby([\"School Type\"]).mean()[\"% Passing Math\"]\n",
    "average_percent_passing_reading_by_type = per_school_summary_df.groupby([\"School Type\"]).mean()[\"% Passing Reading\"]\n",
    "average_percent_overall_passing_by_type = per_school_summary_df.groupby([\"School Type\"]).mean()[\"% Overall Passing\"]"
   ]
  },
  {
   "cell_type": "code",
   "execution_count": null,
   "metadata": {},
   "outputs": [],
   "source": [
    "# Assemble the new data by type into a DataFrame called `type_summary` using the new column data\n",
    "type_summary = pd.DataFrame({\n",
    "    \"Average Math Score\": average_math_score_by_type,\n",
    "    \"Average Reading Score\": average_reading_score_by_type,\n",
    "    \"% Passing Math\": average_percent_passing_math_by_type,\n",
    "    \"% Passing Reading\": average_percent_passing_reading_by_type,\n",
    "    \"% Overall Passing\": average_percent_overall_passing_by_type\n",
    "})\n",
    "\n",
    "# Display results\n",
    "type_summary"
   ]
  }
 ],
 "metadata": {
  "anaconda-cloud": {},
  "kernel_info": {
   "name": "python3"
  },
  "kernelspec": {
   "display_name": "PythonData",
   "language": "python",
   "name": "python3"
  },
  "language_info": {
   "codemirror_mode": {
    "name": "ipython",
    "version": 3
   },
   "file_extension": ".py",
   "mimetype": "text/x-python",
   "name": "python",
   "nbconvert_exporter": "python",
   "pygments_lexer": "ipython3",
   "version": "3.12.2"
  },
  "latex_envs": {
   "LaTeX_envs_menu_present": true,
   "autoclose": false,
   "autocomplete": true,
   "bibliofile": "biblio.bib",
   "cite_by": "apalike",
   "current_citInitial": 1,
   "eqLabelWithNumbers": true,
   "eqNumInitial": 1,
   "hotkeys": {
    "equation": "Ctrl-E",
    "itemize": "Ctrl-I"
   },
   "labels_anchors": false,
   "latex_user_defs": false,
   "report_style_numbering": false,
   "user_envs_cfg": false
  },
  "nteract": {
   "version": "0.8.4"
  },
  "vscode": {
   "interpreter": {
    "hash": "5384d77d82de63fd599f73e77f9ec786e7719288bf80a29ec0288c670ac3cf32"
   }
  }
 },
 "nbformat": 4,
 "nbformat_minor": 4
}
